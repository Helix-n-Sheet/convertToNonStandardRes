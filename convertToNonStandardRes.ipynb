{
 "cells": [
  {
   "cell_type": "markdown",
   "id": "d7646b5d",
   "metadata": {},
   "source": [
    "[![Open In Colab](https://colab.research.google.com/assets/colab-badge.svg)](https://colab.research.google.com/github/Helix-n-Sheet/convertToNonStandardRes/blob/main/convertToNonStandardRes.ipynb)"
   ]
  },
  {
   "cell_type": "markdown",
   "id": "8605aef7",
   "metadata": {},
   "source": [
    "# Colab Prep"
   ]
  },
  {
   "cell_type": "code",
   "execution_count": null,
   "id": "7aa11630",
   "metadata": {},
   "outputs": [],
   "source": [
    "!git clone https://github.com/Helix-n-Sheet/convertToNonStandardRes"
   ]
  },
  {
   "cell_type": "code",
   "execution_count": null,
   "id": "a33623d8",
   "metadata": {},
   "outputs": [],
   "source": [
    "# Install py3Dmol (https://3dmol.csb.pitt.edu/)\n",
    "# for visualization purposes:\n",
    "try:\n",
    "    import py3Dmol\n",
    "except:\n",
    "    !pip install py3Dmol\n",
    "    import py3Dmol"
   ]
  },
  {
   "cell_type": "code",
   "execution_count": null,
   "id": "29f98fd5",
   "metadata": {},
   "outputs": [],
   "source": [
    "# Install MDAnalysis\n",
    "# for loading and parsing the .pdb file\n",
    "try:\n",
    "    import MDAnalysis\n",
    "except:\n",
    "    !pip install MDAnalysis \n",
    "    import MDAnalysis"
   ]
  },
  {
   "cell_type": "code",
   "execution_count": null,
   "id": "3e32ad2a",
   "metadata": {},
   "outputs": [],
   "source": [
    "# Install latest version of AmberTools\n",
    "# for adding missing atoms\n",
    "tleap_output = !tleap -h\n",
    "if 'tleap: command not found' in tleap_output:\n",
    "    !pip install -q condacolab\n",
    "    import condacolab\n",
    "    condacolab.install()\n",
    "    !conda config --add channels conda-forge\n",
    "    !conda install ambertools\n",
    "else:\n",
    "    print('Already have tleap installed.')"
   ]
  },
  {
   "cell_type": "markdown",
   "id": "6d2db621",
   "metadata": {},
   "source": [
    "# Preamble"
   ]
  },
  {
   "cell_type": "code",
   "execution_count": null,
   "id": "12141cc8",
   "metadata": {},
   "outputs": [],
   "source": [
    "# Import standard python packages\n",
    "# for data provenance:\n",
    "import datetime\n",
    "from pathlib import Path\n",
    "\n",
    "# for running the tleap command:\n",
    "import subprocess"
   ]
  },
  {
   "cell_type": "markdown",
   "id": "4eab290f",
   "metadata": {},
   "source": [
    "# User-defined parameters:"
   ]
  },
  {
   "cell_type": "code",
   "execution_count": null,
   "id": "0d8234ac",
   "metadata": {},
   "outputs": [],
   "source": [
    "nsaa_residue_number = 56   # one-indexed integer value for the residue of interest, as seen in the .cif/.pdb file\n",
    "nsaa_residue_name   = 'HYP' # three letter resname, should be recognizable by the molecular mechanics forcefield\n",
    "starting_structure = Path('/content/convertToNonStandardRes/test/test_protein.pdb')\n",
    "output_dir = starting_structure.parent"
   ]
  },
  {
   "cell_type": "markdown",
   "id": "592691b7",
   "metadata": {},
   "source": [
    "# Load Test System"
   ]
  },
  {
   "cell_type": "code",
   "execution_count": null,
   "id": "c7683b19",
   "metadata": {},
   "outputs": [],
   "source": [
    "# load AlphaFold inferred model into a MDAnalysis Universe\n",
    "u = MDAnalysis.Universe(starting_structure)\n",
    "# select all atoms as an AtomGroup\n",
    "sel = u.select_atoms('all')"
   ]
  },
  {
   "cell_type": "code",
   "execution_count": null,
   "id": "0a53448c",
   "metadata": {},
   "outputs": [],
   "source": [
    "# let's visualize the wild-type structure\n",
    "before = py3Dmol.view()\n",
    "with open(starting_structure,'r') as struct_file:\n",
    "    before_model = struct_file.read()\n",
    "before.addModel(before_model,'pdb')\n",
    "# draw the newcartoon representation, color with a light blue\n",
    "before.setStyle({'cartoon': {'color': '#ADD8E6'}})\n",
    "# draw the to-be-modified residue with licorice/stick representation \n",
    "# but we also need to add the cartoon rep too :( \n",
    "before.setStyle({'resi':[nsaa_residue_number]}, \n",
    "                {'stick':{'colorscheme':'cyanCarbon'},\n",
    "                 'cartoon':{'color': 'red'}})\n",
    "\n",
    "before.show()"
   ]
  },
  {
   "cell_type": "code",
   "execution_count": null,
   "id": "8fc5de41",
   "metadata": {},
   "outputs": [],
   "source": [
    "# Adding data provenance information to the preamble of the PDB file\n",
    "remark_list = ['Structure file written using MDAnalysis.',\n",
    "               'Script to produce this structure is https://github.com/Helix-n-Sheet/convertToNonStandardRes/',\n",
    "               f'Date: {datetime.datetime.now()}', \n",
    "               f'Removing sidechain atoms for residue {nsaa_residue_number}.']\n",
    "u.trajectory.remarks = remark_list"
   ]
  },
  {
   "cell_type": "markdown",
   "id": "d6966cee",
   "metadata": {},
   "source": [
    "### checkout the wild-type residue"
   ]
  },
  {
   "cell_type": "code",
   "execution_count": null,
   "id": "d26daeee",
   "metadata": {
    "scrolled": true
   },
   "outputs": [],
   "source": [
    "# because python, iterators' first index is 0 so subtract 1 from the residue number in the .pdb file\n",
    "nsaa_residue_index = nsaa_residue_number - 1\n",
    "original_residue_name = sel.residues[nsaa_residue_index].resname\n",
    "\n",
    "nsaa = sel.residues[nsaa_residue_index]\n",
    "print(nsaa)\n",
    "for atom in nsaa.atoms:\n",
    "    print(atom)"
   ]
  },
  {
   "cell_type": "markdown",
   "id": "e69a2768",
   "metadata": {},
   "source": [
    "## Create the temporary structure file"
   ]
  },
  {
   "cell_type": "code",
   "execution_count": null,
   "id": "81180f95",
   "metadata": {},
   "outputs": [],
   "source": [
    "# create a 2nd atom selection group, where we grab all atoms except side chain atoms of residue of interest\n",
    "modified_sel = sel.select_atoms(f'not (resid {nsaa_residue_number} and not backbone)')\n",
    "# for the residue of interest, change the residue name to the desired nsaa three character string\n",
    "modified_sel.residues[nsaa_residue_index].resname = nsaa_residue_name\n",
    "# write out the temporary structure file\n",
    "modified_sel.write(output_dir / 'temp.pdb')"
   ]
  },
  {
   "cell_type": "code",
   "execution_count": null,
   "id": "aadcd434",
   "metadata": {},
   "outputs": [],
   "source": [
    "# let's visualize the temporary structure\n",
    "temp = py3Dmol.view()\n",
    "with open(output_dir / 'temp.pdb','r') as struct_file:\n",
    "    temp_model = struct_file.read()\n",
    "temp.addModel(temp_model,'pdb')\n",
    "# draw the newcartoon representation, color with a light blue\n",
    "temp.setStyle({'cartoon': {'color': '#ADD8E6'}})\n",
    "# draw the to-be-modified residue with licorice/stick representation \n",
    "temp.setStyle({'resi':[nsaa_residue_number]}, \n",
    "                {'stick':{'colorscheme':'cyanCarbon'},\n",
    "                 'cartoon':{'color': 'red'}})\n",
    "\n",
    "temp.show()"
   ]
  },
  {
   "cell_type": "code",
   "execution_count": null,
   "id": "acbf4cfe",
   "metadata": {},
   "outputs": [],
   "source": [
    "# checking our work; load the new temp.pdb file\n",
    "u = MDAnalysis.Universe(output_dir / 'temp.pdb')\n",
    "# create an atom selection group\n",
    "sel = u.select_atoms(f'resid {nsaa_residue_number}')\n",
    "print(sel.residues[0])\n",
    "for atom in sel.atoms:\n",
    "    print(atom)"
   ]
  },
  {
   "cell_type": "markdown",
   "id": "0741ebe3",
   "metadata": {},
   "source": [
    "# Load the temp pdb into tleap and write out the modified model"
   ]
  },
  {
   "cell_type": "code",
   "execution_count": null,
   "id": "216677a0",
   "metadata": {
    "scrolled": true
   },
   "outputs": [],
   "source": [
    "with open(output_dir / 'tleap.in','w') as file:\n",
    "    file.write(f'source leaprc.protein.ff19SB\\nprot = loadpdb temp.pdb\\nsavepdb prot modified.pdb\\n\\nquit')\n",
    "subprocess.run(f'tleap -s -f tleap.in',shell=True,cwd=output_dir)"
   ]
  },
  {
   "cell_type": "code",
   "execution_count": null,
   "id": "bb77b09d",
   "metadata": {},
   "outputs": [],
   "source": [
    "u = MDAnalysis.Universe(output_dir /'modified.pdb')\n",
    "sel = u.select_atoms('all')\n",
    "\n",
    "# Adding data provenance information to the preamble of the PDB file\n",
    "remark_list = ['Structure file written using tLeap and MDAnalysis.',\n",
    "               'Script to produce this structure is https://github.com/Helix-n-Sheet/convertToNonStandardRes/',\n",
    "               f'Date: {datetime.datetime.now()}', \n",
    "               f'Converted residue {nsaa_residue_number} from {original_residue_name} to {nsaa_residue_name}']\n",
    "\n",
    "u.trajectory.remarks = remark_list\n",
    "sel.write(output_dir / 'modified.pdb')"
   ]
  },
  {
   "cell_type": "code",
   "execution_count": null,
   "id": "017317fe",
   "metadata": {},
   "outputs": [],
   "source": [
    "# let's visualize the modified structure\n",
    "after = py3Dmol.view()\n",
    "with open(output_dir / 'modified.pdb','r') as struct_file:\n",
    "    after_model = struct_file.read()\n",
    "after.addModel(after_model,'pdb')\n",
    "# draw the newcartoon representation, color with a light blue\n",
    "after.setStyle({'cartoon': {'color': '#ADD8E6'}})\n",
    "# draw the to-be-modified residue with licorice/stick representation \n",
    "# but we also need to add the cartoon rep too :( \n",
    "after.setStyle({'resi':[nsaa_residue_number]}, \n",
    "                {'stick':{'colorscheme':'cyanCarbon'},\n",
    "                 'cartoon':{'color': 'red'}})\n",
    "\n",
    "after.show()"
   ]
  },
  {
   "cell_type": "markdown",
   "id": "8f84b061",
   "metadata": {},
   "source": [
    "# Visualize all three structures"
   ]
  },
  {
   "cell_type": "code",
   "execution_count": null,
   "id": "f37044f4",
   "metadata": {},
   "outputs": [],
   "source": [
    "view = py3Dmol.view(viewergrid=(1,3), width=1000)\n",
    "\n",
    "# load the original structure file in the left-most cell\n",
    "view.removeAllModels(viewer=(0,0))\n",
    "view.addModel(before_model,viewer=(0,0))\n",
    "\n",
    "# load the temp structure file in the middle\n",
    "view.removeAllModels(viewer=(0,1))\n",
    "view.addModel(temp_model,viewer=(0,1))\n",
    "\n",
    "# load the final modified file in the right-most cell\n",
    "view.removeAllModels(viewer=(0,2))\n",
    "view.addModel(after_model,viewer=(0,2))\n",
    "\n",
    "for i in range(3):\n",
    "    view.setStyle({'cartoon': {'color': '#ADD8E6'}},viewer=(0,i))\n",
    "    view.setStyle({'resi':[nsaa_residue_number]}, \n",
    "                  {'stick':{'colorscheme':'cyanCarbon'},\n",
    "                   'cartoon':{'color': 'red'}},\n",
    "                  viewer=(0,i))\n",
    "\n",
    "view.render()"
   ]
  },
  {
   "cell_type": "code",
   "execution_count": null,
   "id": "a0d9b455",
   "metadata": {},
   "outputs": [],
   "source": []
  }
 ],
 "metadata": {
  "kernelspec": {
   "display_name": "Python 3 (ipykernel)",
   "language": "python",
   "name": "python3"
  },
  "language_info": {
   "codemirror_mode": {
    "name": "ipython",
    "version": 3
   },
   "file_extension": ".py",
   "mimetype": "text/x-python",
   "name": "python",
   "nbconvert_exporter": "python",
   "pygments_lexer": "ipython3",
   "version": "3.9.15"
  }
 },
 "nbformat": 4,
 "nbformat_minor": 5
}
